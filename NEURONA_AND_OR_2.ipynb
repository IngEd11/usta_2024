{
  "nbformat": 4,
  "nbformat_minor": 0,
  "metadata": {
    "colab": {
      "provenance": [],
      "authorship_tag": "ABX9TyMAUax3v3gbcSD5yHtjYuA/",
      "include_colab_link": true
    },
    "kernelspec": {
      "name": "python3",
      "display_name": "Python 3"
    },
    "language_info": {
      "name": "python"
    }
  },
  "cells": [
    {
      "cell_type": "markdown",
      "metadata": {
        "id": "view-in-github",
        "colab_type": "text"
      },
      "source": [
        "<a href=\"https://colab.research.google.com/github/IngEd11/usta_2024/blob/main/NEURONA_AND_OR_2.ipynb\" target=\"_parent\"><img src=\"https://colab.research.google.com/assets/colab-badge.svg\" alt=\"Open In Colab\"/></a>"
      ]
    },
    {
      "cell_type": "code",
      "execution_count": null,
      "metadata": {
        "id": "sWcj-shQQI8R"
      },
      "outputs": [],
      "source": [
        "import numpy as np\n",
        "import matplotlib.pyplot as plt"
      ]
    },
    {
      "cell_type": "markdown",
      "source": [
        "# AND_OR"
      ],
      "metadata": {
        "id": "33YTmkAb9I9h"
      }
    },
    {
      "cell_type": "code",
      "source": [
        "inputs=np.array([[0,0],[0,1],[1,0],[1,1]])\n",
        "outputs=np.array([0,1,1,1])"
      ],
      "metadata": {
        "id": "SmlCpZgGxu3F"
      },
      "execution_count": null,
      "outputs": []
    },
    {
      "cell_type": "code",
      "source": [
        "plt.figure(figsize=(2,2))\n",
        "plt.scatter(inputs[:,0],inputs[:,1],marker=\"o\",c=outputs, edgecolors=\"k\")\n",
        "plt.xlabel('A');\n",
        "plt.ylabel('B');"
      ],
      "metadata": {
        "colab": {
          "base_uri": "https://localhost:8080/",
          "height": 234
        },
        "id": "ryLH5kpcydw_",
        "outputId": "5f6a6417-c4bd-4f51-913a-5f844d5ccd9c"
      },
      "execution_count": null,
      "outputs": [
        {
          "output_type": "display_data",
          "data": {
            "text/plain": [
              "<Figure size 200x200 with 1 Axes>"
            ],
            "image/png": "[encoded data removed]"
          },
          "metadata": {}
        }
      ]
    },
    {
      "cell_type": "markdown",
      "source": [
        "PARAMETROS DE ENTREMIENTO\n",
        "* PESOS(W)\n",
        "* BIAS\n",
        "* LEARNING_RATE"
      ],
      "metadata": {
        "id": "AwAtoaqXzOzB"
      }
    },
    {
      "cell_type": "code",
      "source": [
        "weights=np.random.rand(2)\n",
        "weights\n",
        "bias=np.random.rand(1)\n",
        "bias\n",
        "learning_rate=0.1\n",
        "learning_rate"
      ],
      "metadata": {
        "colab": {
          "base_uri": "https://localhost:8080/"
        },
        "id": "6S-VrMCKzZM2",
        "outputId": "7c03c342-b2f0-48ae-86dc-60918863b9ca"
      },
      "execution_count": null,
      "outputs": [
        {
          "output_type": "execute_result",
          "data": {
            "text/plain": [
              "0.1"
            ]
          },
          "metadata": {},
          "execution_count": 459
        }
      ]
    },
    {
      "cell_type": "markdown",
      "source": [
        "MODELO"
      ],
      "metadata": {
        "id": "ssQ6bTiNz9Un"
      }
    },
    {
      "cell_type": "code",
      "source": [
        "#Definir funcion para predecir\n",
        "def predict(inputs):\n",
        "  linear=np.dot(inputs,weights)+bias\n",
        "  return np.where(linear>0,1,0)"
      ],
      "metadata": {
        "id": "VJkw7Bv1z-83"
      },
      "execution_count": null,
      "outputs": []
    },
    {
      "cell_type": "code",
      "source": [
        "predict(inputs)"
      ],
      "metadata": {
        "colab": {
          "base_uri": "https://localhost:8080/"
        },
        "id": "_cH4x-gg1XvK",
        "outputId": "3473b1b6-738b-4d37-c5a0-54563402b868"
      },
      "execution_count": null,
      "outputs": [
        {
          "output_type": "execute_result",
          "data": {
            "text/plain": [
              "array([1, 1, 1, 1])"
            ]
          },
          "metadata": {},
          "execution_count": 461
        }
      ]
    },
    {
      "cell_type": "code",
      "source": [
        "def train(inputs,outputs,epochs):\n",
        " global weights,bias\n",
        " for epoch in range (epochs):\n",
        "  total_error=0\n",
        "  for x,y in zip(inputs, outputs):\n",
        "    y_pred=predict(x)\n",
        "    error=y-y_pred\n",
        "    total_error+=abs(error)\n",
        "    weights+=learning_rate*error*x\n",
        "    bias+=learning_rate*error\n",
        "  print(f\"Epoch: {epoch}, Error: {total_error}\")"
      ],
      "metadata": {
        "id": "G9qG5Ebt1ccC"
      },
      "execution_count": null,
      "outputs": []
    },
    {
      "cell_type": "code",
      "source": [
        "train(inputs,outputs, epochs=10)"
      ],
      "metadata": {
        "colab": {
          "base_uri": "https://localhost:8080/"
        },
        "id": "JApMW_gW34aE",
        "outputId": "4407cff5-1124-489d-f3f7-b7987021f854"
      },
      "execution_count": null,
      "outputs": [
        {
          "output_type": "stream",
          "name": "stdout",
          "text": [
            "Epoch: 0, Error: [1]\n",
            "Epoch: 1, Error: [1]\n",
            "Epoch: 2, Error: [1]\n",
            "Epoch: 3, Error: [0]\n",
            "Epoch: 4, Error: [0]\n",
            "Epoch: 5, Error: [0]\n",
            "Epoch: 6, Error: [0]\n",
            "Epoch: 7, Error: [0]\n",
            "Epoch: 8, Error: [0]\n",
            "Epoch: 9, Error: [0]\n"
          ]
        }
      ]
    },
    {
      "cell_type": "code",
      "source": [
        "x_values=np.linspace(0,1,100)\n",
        "y_values=-(weights[0]/weights[1])*x_values-(bias/weights[1])\n",
        "plt.figure(figsize=(2,2))\n",
        "plt.scatter(inputs[:,0],inputs[:,1],marker=\"o\",c=outputs, edgecolors=\"k\")\n",
        "plt.plot(x_values,y_values,color=\"r\")"
      ],
      "metadata": {
        "colab": {
          "base_uri": "https://localhost:8080/",
          "height": 231
        },
        "id": "jSQRt2U_54WS",
        "outputId": "1da8f5a5-2ed7-4039-85f4-c1149e00ef0a"
      },
      "execution_count": null,
      "outputs": [
        {
          "output_type": "execute_result",
          "data": {
            "text/plain": [
              "[<matplotlib.lines.Line2D at 0x7d1ff87cd840>]"
            ]
          },
          "metadata": {},
          "execution_count": 464
        },
        {
          "output_type": "display_data",
          "data": {
            "text/plain": [
              "<Figure size 200x200 with 1 Axes>"
            ],
            "image/png": "[encoded data removed]"
          },
          "metadata": {}
        }
      ]
    }
  ]
}